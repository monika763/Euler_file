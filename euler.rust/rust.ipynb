{
  "nbformat": 4,
  "nbformat_minor": 0,
  "metadata": {
    "colab": {
      "provenance": []
    },
    "kernelspec": {
      "name": "python3",
      "display_name": "Python 3"
    },
    "language_info": {
      "name": "python"
    }
  },
  "cells": [
    {
      "cell_type": "code",
      "execution_count": 1,
      "metadata": {
        "colab": {
          "base_uri": "https://localhost:8080/"
        },
        "collapsed": true,
        "id": "5cF_u26r73tx",
        "outputId": "b2f1d69a-fc22-483f-8ae6-7ec02de3ee33"
      },
      "outputs": [
        {
          "output_type": "stream",
          "name": "stdout",
          "text": [
            "\n",
            "  stable-x86_64-unknown-linux-gnu installed - rustc 1.88.0 (6b00bc388 2025-06-23)\n",
            "\n",
            "\n",
            "Rust is installed now. Great!\n",
            "\n",
            "To get started you may need to restart your current shell.\n",
            "This would reload your PATH environment variable to include\n",
            "Cargo's bin directory ($HOME/.cargo/bin).\n",
            "\n",
            "To configure your current shell, you need to source\n",
            "the corresponding env file under $HOME/.cargo.\n",
            "\n",
            "This is usually done by running one of the following (note the leading DOT):\n",
            ". \"$HOME/.cargo/env\"            # For sh/bash/zsh/ash/dash/pdksh\n",
            "source \"$HOME/.cargo/env.fish\"  # For fish\n",
            "source $\"($nu.home-path)/.cargo/env.nu\"  # For nushell\n"
          ]
        },
        {
          "output_type": "stream",
          "name": "stderr",
          "text": [
            "info: downloading installer\n",
            "info: profile set to 'default'\n",
            "info: default host triple is x86_64-unknown-linux-gnu\n",
            "info: syncing channel updates for 'stable-x86_64-unknown-linux-gnu'\n",
            "info: latest update on 2025-06-26, rust version 1.88.0 (6b00bc388 2025-06-23)\n",
            "info: downloading component 'cargo'\n",
            "info: downloading component 'clippy'\n",
            "info: downloading component 'rust-docs'\n",
            "info: downloading component 'rust-std'\n",
            "info: downloading component 'rustc'\n",
            "info: downloading component 'rustfmt'\n",
            "info: installing component 'cargo'\n",
            "info: installing component 'clippy'\n",
            "info: installing component 'rust-docs'\n",
            "info: installing component 'rust-std'\n",
            "info: installing component 'rustc'\n",
            "info: installing component 'rustfmt'\n",
            "info: default toolchain set to 'stable-x86_64-unknown-linux-gnu'\n"
          ]
        }
      ],
      "source": [
        "%%bash\n",
        "curl https://sh.rustup.rs -sSf | sh -s -- -y\n",
        "source $HOME/.cargo/env\n"
      ]
    },
    {
      "cell_type": "code",
      "source": [
        "%%bash\n",
        "source $HOME/.cargo/env\n",
        "rm -rf euler_project\n",
        "cargo new euler_project\n"
      ],
      "metadata": {
        "colab": {
          "base_uri": "https://localhost:8080/"
        },
        "collapsed": true,
        "id": "B6kn57wl8ANE",
        "outputId": "4a38a745-4e40-4e4b-b1e8-d553a41510b4"
      },
      "execution_count": 2,
      "outputs": [
        {
          "output_type": "stream",
          "name": "stderr",
          "text": [
            "    Creating binary (application) `euler_project` package\n",
            "note: see more `Cargo.toml` keys and their definitions at https://doc.rust-lang.org/cargo/reference/manifest.html\n"
          ]
        }
      ]
    },
    {
      "cell_type": "code",
      "source": [
        "euler_code = \"\"\"\n",
        "// Euler method to solve dy/dt = f(t, y)\n",
        "pub fn euler_method(\n",
        "    f: impl Fn(f64, f64) -> f64,\n",
        "    y0: f64,\n",
        "    t0: f64,\n",
        "    t_end: f64,\n",
        "    n: usize,\n",
        ") -> Vec<(f64, f64)> {\n",
        "    let h = (t_end - t0) / n as f64;\n",
        "    let mut result = Vec::new();\n",
        "    let mut t = t0;\n",
        "    let mut y = y0;\n",
        "\n",
        "    result.push((t, y));\n",
        "    for _ in 0..n {\n",
        "        y += h * f(t, y);\n",
        "        t += h;\n",
        "        result.push((t, y));\n",
        "    }\n",
        "\n",
        "    result\n",
        "}\n",
        "\"\"\"\n",
        "with open(\"euler_project/src/euler.rs\", \"w\") as f:\n",
        "    f.write(euler_code)\n"
      ],
      "metadata": {
        "id": "-JNQdVdU8EXY"
      },
      "execution_count": 3,
      "outputs": []
    },
    {
      "cell_type": "code",
      "source": [
        "main_code = \"\"\"\n",
        "mod euler;\n",
        "\n",
        "use plotters::prelude::*;\n",
        "use std::fs::File;\n",
        "use std::io::{BufWriter, Write};\n",
        "\n",
        "fn ode(t: f64, y: f64) -> f64 {\n",
        "    t.cos() - y\n",
        "}\n",
        "\n",
        "fn y_exact(t: f64) -> f64 {\n",
        "    0.5 * (t.cos() + t.sin()) + 0.5 * (-t).exp()\n",
        "}\n",
        "\n",
        "fn main() -> Result<(), Box<dyn std::error::Error>> {\n",
        "    let t0 = 0.0;\n",
        "    let t_end = 5.0;\n",
        "    let y0 = 1.0;\n",
        "    let steps_list = [20, 100, 1000];\n",
        "    let colors = [&RED, &BLUE, &GREEN];\n",
        "\n",
        "    let file = File::create(\"euler_solutions.csv\")?;\n",
        "    let mut writer = BufWriter::new(file);\n",
        "    writeln!(writer, \"n,t,y\")?;\n",
        "\n",
        "    let root = BitMapBackend::new(\"euler_plot.png\", (900, 600)).into_drawing_area();\n",
        "    root.fill(&WHITE)?;\n",
        "    let mut chart = ChartBuilder::on(&root)\n",
        "        .caption(\"Euler vs Analytical Solution\", (\"sans-serif\", 25))\n",
        "        .margin(20)\n",
        "        .x_label_area_size(40)\n",
        "        .y_label_area_size(50)\n",
        "        .build_cartesian_2d(t0..t_end, -1.5..1.5)?;\n",
        "    chart.configure_mesh().draw()?;\n",
        "\n",
        "    for (i, &n) in steps_list.iter().enumerate() {\n",
        "        let result = euler::euler_method(ode, y0, t0, t_end, n);\n",
        "        for (t, y) in &result {\n",
        "            writeln!(writer, \"{},{:.4},{:.6}\", n, t, y)?;\n",
        "        }\n",
        "        chart.draw_series(LineSeries::new(result.clone(), colors[i]))?\n",
        "            .label(format!(\"Euler n = {}\", n))\n",
        "            .legend(move |(x, y)| PathElement::new([(x, y), (x+20, y)], colors[i]));\n",
        "    }\n",
        "\n",
        "    let exact: Vec<(f64, f64)> = (0..=1000)\n",
        "        .map(|i| {\n",
        "            let t = t0 + i as f64 * (t_end - t0) / 1000.0;\n",
        "            (t, y_exact(t))\n",
        "        })\n",
        "        .collect();\n",
        "\n",
        "    chart.draw_series(LineSeries::new(exact, &BLACK))?\n",
        "    .label(\"Analytical Solution\")\n",
        "    .legend(|(x, y)| PathElement::new([(x, y), (x + 20, y)], &BLACK));\n",
        "\n",
        "    chart.configure_series_labels().background_style(&WHITE).draw()?;\n",
        "    println!(\"✅ Plot and CSV created.\");\n",
        "    Ok(())\n",
        "}\n",
        "\"\"\"\n",
        "with open(\"euler_project/src/main.rs\", \"w\") as f:\n",
        "    f.write(main_code)\n"
      ],
      "metadata": {
        "id": "G5XPXMJi8G62"
      },
      "execution_count": 12,
      "outputs": []
    },
    {
      "cell_type": "code",
      "source": [
        "%%bash\n",
        "# Replace the entire Cargo.toml with a clean one\n",
        "cat <<EOF > euler_project/Cargo.toml\n",
        "[package]\n",
        "name = \"euler_project\"\n",
        "version = \"0.1.0\"\n",
        "edition = \"2021\"\n",
        "\n",
        "[dependencies]\n",
        "plotters = \"0.3\"\n",
        "EOF\n"
      ],
      "metadata": {
        "id": "burLUZ4p8NDj"
      },
      "execution_count": 15,
      "outputs": []
    },
    {
      "cell_type": "code",
      "source": [
        "%%bash\n",
        "cd euler_project\n",
        "source $HOME/.cargo/env\n",
        "cargo run --release\n"
      ],
      "metadata": {
        "colab": {
          "base_uri": "https://localhost:8080/"
        },
        "collapsed": true,
        "id": "a2RdDiWR8P4V",
        "outputId": "7d6fa34f-97bb-4c7d-f8a0-b4c4623037d7"
      },
      "execution_count": 16,
      "outputs": [
        {
          "output_type": "stream",
          "name": "stdout",
          "text": [
            "✅ Plot and CSV created.\n"
          ]
        },
        {
          "output_type": "stream",
          "name": "stderr",
          "text": [
            "   Compiling euler_project v0.1.0 (/content/euler_project)\n",
            "    Finished `release` profile [optimized] target(s) in 4.18s\n",
            "     Running `target/release/euler_project`\n"
          ]
        }
      ]
    },
    {
      "cell_type": "code",
      "source": [
        "from google.colab import files\n",
        "files.download(\"euler_project/euler_solutions.csv\")\n",
        "files.download(\"euler_project/euler_plot.png\")\n"
      ],
      "metadata": {
        "colab": {
          "base_uri": "https://localhost:8080/",
          "height": 17
        },
        "id": "owITGdH28TDi",
        "outputId": "b24e873c-bd30-4a1d-95ef-54dc2a96bfe3"
      },
      "execution_count": 17,
      "outputs": [
        {
          "output_type": "display_data",
          "data": {
            "text/plain": [
              "<IPython.core.display.Javascript object>"
            ],
            "application/javascript": [
              "\n",
              "    async function download(id, filename, size) {\n",
              "      if (!google.colab.kernel.accessAllowed) {\n",
              "        return;\n",
              "      }\n",
              "      const div = document.createElement('div');\n",
              "      const label = document.createElement('label');\n",
              "      label.textContent = `Downloading \"${filename}\": `;\n",
              "      div.appendChild(label);\n",
              "      const progress = document.createElement('progress');\n",
              "      progress.max = size;\n",
              "      div.appendChild(progress);\n",
              "      document.body.appendChild(div);\n",
              "\n",
              "      const buffers = [];\n",
              "      let downloaded = 0;\n",
              "\n",
              "      const channel = await google.colab.kernel.comms.open(id);\n",
              "      // Send a message to notify the kernel that we're ready.\n",
              "      channel.send({})\n",
              "\n",
              "      for await (const message of channel.messages) {\n",
              "        // Send a message to notify the kernel that we're ready.\n",
              "        channel.send({})\n",
              "        if (message.buffers) {\n",
              "          for (const buffer of message.buffers) {\n",
              "            buffers.push(buffer);\n",
              "            downloaded += buffer.byteLength;\n",
              "            progress.value = downloaded;\n",
              "          }\n",
              "        }\n",
              "      }\n",
              "      const blob = new Blob(buffers, {type: 'application/binary'});\n",
              "      const a = document.createElement('a');\n",
              "      a.href = window.URL.createObjectURL(blob);\n",
              "      a.download = filename;\n",
              "      div.appendChild(a);\n",
              "      a.click();\n",
              "      div.remove();\n",
              "    }\n",
              "  "
            ]
          },
          "metadata": {}
        },
        {
          "output_type": "display_data",
          "data": {
            "text/plain": [
              "<IPython.core.display.Javascript object>"
            ],
            "application/javascript": [
              "download(\"download_1629d10e-760c-4636-ad85-4a35d12a7aa4\", \"euler_solutions.csv\", 24026)"
            ]
          },
          "metadata": {}
        },
        {
          "output_type": "display_data",
          "data": {
            "text/plain": [
              "<IPython.core.display.Javascript object>"
            ],
            "application/javascript": [
              "\n",
              "    async function download(id, filename, size) {\n",
              "      if (!google.colab.kernel.accessAllowed) {\n",
              "        return;\n",
              "      }\n",
              "      const div = document.createElement('div');\n",
              "      const label = document.createElement('label');\n",
              "      label.textContent = `Downloading \"${filename}\": `;\n",
              "      div.appendChild(label);\n",
              "      const progress = document.createElement('progress');\n",
              "      progress.max = size;\n",
              "      div.appendChild(progress);\n",
              "      document.body.appendChild(div);\n",
              "\n",
              "      const buffers = [];\n",
              "      let downloaded = 0;\n",
              "\n",
              "      const channel = await google.colab.kernel.comms.open(id);\n",
              "      // Send a message to notify the kernel that we're ready.\n",
              "      channel.send({})\n",
              "\n",
              "      for await (const message of channel.messages) {\n",
              "        // Send a message to notify the kernel that we're ready.\n",
              "        channel.send({})\n",
              "        if (message.buffers) {\n",
              "          for (const buffer of message.buffers) {\n",
              "            buffers.push(buffer);\n",
              "            downloaded += buffer.byteLength;\n",
              "            progress.value = downloaded;\n",
              "          }\n",
              "        }\n",
              "      }\n",
              "      const blob = new Blob(buffers, {type: 'application/binary'});\n",
              "      const a = document.createElement('a');\n",
              "      a.href = window.URL.createObjectURL(blob);\n",
              "      a.download = filename;\n",
              "      div.appendChild(a);\n",
              "      a.click();\n",
              "      div.remove();\n",
              "    }\n",
              "  "
            ]
          },
          "metadata": {}
        },
        {
          "output_type": "display_data",
          "data": {
            "text/plain": [
              "<IPython.core.display.Javascript object>"
            ],
            "application/javascript": [
              "download(\"download_e08dfc6b-969a-436c-ab93-1595b140b07d\", \"euler_plot.png\", 122936)"
            ]
          },
          "metadata": {}
        }
      ]
    }
  ]
}
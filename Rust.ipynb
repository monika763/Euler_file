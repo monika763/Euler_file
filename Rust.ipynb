{
  "nbformat": 4,
  "nbformat_minor": 0,
  "metadata": {
    "colab": {
      "provenance": [],
      "include_colab_link": true
    },
    "kernelspec": {
      "name": "python3",
      "display_name": "Python 3"
    },
    "language_info": {
      "name": "python"
    }
  },
  "cells": [
    {
      "cell_type": "markdown",
      "metadata": {
        "id": "view-in-github",
        "colab_type": "text"
      },
      "source": [
        "<a href=\"https://colab.research.google.com/github/monika763/Euler_file/blob/main/Rust.ipynb\" target=\"_parent\"><img src=\"https://colab.research.google.com/assets/colab-badge.svg\" alt=\"Open In Colab\"/></a>"
      ]
    },
    {
      "cell_type": "code",
      "execution_count": null,
      "metadata": {
        "colab": {
          "base_uri": "https://localhost:8080/"
        },
        "id": "_92kOe6UfiEK",
        "outputId": "38174c47-7321-48b8-f6f7-2d61059cb2bf"
      },
      "outputs": [
        {
          "output_type": "stream",
          "name": "stdout",
          "text": [
            "\n",
            "  stable-x86_64-unknown-linux-gnu unchanged - rustc 1.88.0 (6b00bc388 2025-06-23)\n",
            "\n",
            "\n",
            "Rust is installed now. Great!\n",
            "\n",
            "To get started you may need to restart your current shell.\n",
            "This would reload your PATH environment variable to include\n",
            "Cargo's bin directory ($HOME/.cargo/bin).\n",
            "\n",
            "To configure your current shell, you need to source\n",
            "the corresponding env file under $HOME/.cargo.\n",
            "\n",
            "This is usually done by running one of the following (note the leading DOT):\n",
            ". \"$HOME/.cargo/env\"            # For sh/bash/zsh/ash/dash/pdksh\n",
            "source \"$HOME/.cargo/env.fish\"  # For fish\n",
            "source $\"($nu.home-path)/.cargo/env.nu\"  # For nushell\n",
            "rustc 1.88.0 (6b00bc388 2025-06-23)\n"
          ]
        },
        {
          "output_type": "stream",
          "name": "stderr",
          "text": [
            "info: downloading installer\n",
            "warn: It looks like you have an existing rustup settings file at:\n",
            "warn: /root/.rustup/settings.toml\n",
            "warn: Rustup will install the default toolchain as specified in the settings file,\n",
            "warn: instead of the one inferred from the default host triple.\n",
            "info: profile set to 'default'\n",
            "info: default host triple is x86_64-unknown-linux-gnu\n",
            "warn: Updating existing toolchain, profile choice will be ignored\n",
            "info: syncing channel updates for 'stable-x86_64-unknown-linux-gnu'\n",
            "info: default toolchain set to 'stable-x86_64-unknown-linux-gnu'\n"
          ]
        }
      ],
      "source": [
        "%%bash\n",
        "curl https://sh.rustup.rs -sSf | sh -s -- -y\n",
        "source $HOME/.cargo/env\n",
        "rustc --version\n"
      ]
    },
    {
      "cell_type": "code",
      "source": [
        "%%bash\n",
        "source $HOME/.cargo/env\n",
        "rm -rf euler_project\n",
        "cargo new euler_project\n"
      ],
      "metadata": {
        "id": "m2tiP5_Dja7p",
        "outputId": "7a491673-5e76-4704-a760-ae5d045c9b68",
        "colab": {
          "base_uri": "https://localhost:8080/"
        }
      },
      "execution_count": null,
      "outputs": [
        {
          "output_type": "stream",
          "name": "stderr",
          "text": [
            "    Creating binary (application) `euler_project` package\n",
            "note: see more `Cargo.toml` keys and their definitions at https://doc.rust-lang.org/cargo/reference/manifest.html\n"
          ]
        }
      ]
    },
    {
      "cell_type": "code",
      "source": [
        "euler_code = \"\"\"\n",
        "// Euler method to solve dy/dt = f(t, y)\n",
        "pub fn euler_method(\n",
        "    f: impl Fn(f64, f64) -> f64,\n",
        "    y0: f64,\n",
        "    t0: f64,\n",
        "    t_end: f64,\n",
        "    n: usize,\n",
        ") -> Vec<(f64, f64)> {\n",
        "    let h = (t_end - t0) / n as f64;\n",
        "    let mut result = Vec::new();\n",
        "    let mut t = t0;\n",
        "    let mut y = y0;\n",
        "\n",
        "    result.push((t, y));\n",
        "    for _ in 0..n {\n",
        "        y += h * f(t, y);\n",
        "        t += h;\n",
        "        result.push((t, y));\n",
        "    }\n",
        "\n",
        "    result\n",
        "}\n",
        "\"\"\"\n",
        "\n",
        "with open(\"euler_project/src/euler.rs\", \"w\") as f:\n",
        "    f.write(euler_code)\n"
      ],
      "metadata": {
        "id": "GG3u9nYFfxd2"
      },
      "execution_count": null,
      "outputs": []
    },
    {
      "cell_type": "code",
      "source": [
        "main_code = \"\"\"\n",
        "mod euler;\n",
        "use std::fs::File;\n",
        "use std::io::{BufWriter, Write};\n",
        "\n",
        "// Define ODE: dy/dt = cos(t) - y\n",
        "fn ode(t: f64, y: f64) -> f64 {\n",
        "    t.cos() - y\n",
        "}\n",
        "\n",
        "fn main() -> Result<(), Box<dyn std::error::Error>> {\n",
        "    let t0 = 0.0;\n",
        "    let t_end = 5.0;\n",
        "    let y0 = 1.0;\n",
        "    let steps_list = [20, 100, 1000];\n",
        "\n",
        "    let file = File::create(\"euler_solutions.csv\")?;\n",
        "    let mut writer = BufWriter::new(file);\n",
        "\n",
        "    writeln!(writer, \"n,t,y\")?;\n",
        "\n",
        "    for &n in &steps_list {\n",
        "        let result = euler::euler_method(ode, y0, t0, t_end, n);\n",
        "        for (t, y) in result {\n",
        "            writeln!(writer, \"{},{:.4},{:.6}\", n, t, y)?;\n",
        "        }\n",
        "    }\n",
        "\n",
        "    println!(\"✅ CSV file 'euler_solutions.csv' created.\");\n",
        "    Ok(())\n",
        "}\n",
        "\"\"\"\n",
        "\n",
        "with open(\"euler_project/src/main.rs\", \"w\") as f:\n",
        "    f.write(main_code)\n"
      ],
      "metadata": {
        "id": "UPlUrOZcf0d3"
      },
      "execution_count": null,
      "outputs": []
    },
    {
      "cell_type": "code",
      "source": [
        "%%bash\n",
        "cd euler_project\n",
        "source $HOME/.cargo/env\n",
        "cargo run --release\n"
      ],
      "metadata": {
        "colab": {
          "base_uri": "https://localhost:8080/"
        },
        "id": "OEmvnL8Lf5kV",
        "outputId": "b8812861-b64d-42f5-d87a-db7ef57050c5"
      },
      "execution_count": null,
      "outputs": [
        {
          "output_type": "stream",
          "name": "stdout",
          "text": [
            "✅ CSV file 'euler_solutions.csv' created.\n"
          ]
        },
        {
          "output_type": "stream",
          "name": "stderr",
          "text": [
            "   Compiling euler_project v0.1.0 (/content/euler_project)\n",
            "    Finished `release` profile [optimized] target(s) in 0.52s\n",
            "     Running `target/release/euler_project`\n"
          ]
        }
      ]
    },
    {
      "cell_type": "code",
      "source": [
        "from google.colab import files\n",
        "files.download(\"euler_project/euler_solutions.csv\")\n"
      ],
      "metadata": {
        "id": "bCCoB2ACgTfd",
        "outputId": "04ed6267-fc89-4f7f-c28d-9708d28f8fd0",
        "colab": {
          "base_uri": "https://localhost:8080/",
          "height": 17
        }
      },
      "execution_count": null,
      "outputs": [
        {
          "output_type": "display_data",
          "data": {
            "text/plain": [
              "<IPython.core.display.Javascript object>"
            ],
            "application/javascript": [
              "\n",
              "    async function download(id, filename, size) {\n",
              "      if (!google.colab.kernel.accessAllowed) {\n",
              "        return;\n",
              "      }\n",
              "      const div = document.createElement('div');\n",
              "      const label = document.createElement('label');\n",
              "      label.textContent = `Downloading \"${filename}\": `;\n",
              "      div.appendChild(label);\n",
              "      const progress = document.createElement('progress');\n",
              "      progress.max = size;\n",
              "      div.appendChild(progress);\n",
              "      document.body.appendChild(div);\n",
              "\n",
              "      const buffers = [];\n",
              "      let downloaded = 0;\n",
              "\n",
              "      const channel = await google.colab.kernel.comms.open(id);\n",
              "      // Send a message to notify the kernel that we're ready.\n",
              "      channel.send({})\n",
              "\n",
              "      for await (const message of channel.messages) {\n",
              "        // Send a message to notify the kernel that we're ready.\n",
              "        channel.send({})\n",
              "        if (message.buffers) {\n",
              "          for (const buffer of message.buffers) {\n",
              "            buffers.push(buffer);\n",
              "            downloaded += buffer.byteLength;\n",
              "            progress.value = downloaded;\n",
              "          }\n",
              "        }\n",
              "      }\n",
              "      const blob = new Blob(buffers, {type: 'application/binary'});\n",
              "      const a = document.createElement('a');\n",
              "      a.href = window.URL.createObjectURL(blob);\n",
              "      a.download = filename;\n",
              "      div.appendChild(a);\n",
              "      a.click();\n",
              "      div.remove();\n",
              "    }\n",
              "  "
            ]
          },
          "metadata": {}
        },
        {
          "output_type": "display_data",
          "data": {
            "text/plain": [
              "<IPython.core.display.Javascript object>"
            ],
            "application/javascript": [
              "download(\"download_ccf64d1b-f7c1-4404-b76d-7b44c8f401ad\", \"euler_solutions.csv\", 24026)"
            ]
          },
          "metadata": {}
        }
      ]
    },
    {
      "cell_type": "code",
      "source": [
        "%%bash\n",
        "echo 'plotters = \"0.3\"' >> euler_project/Cargo.toml\n"
      ],
      "metadata": {
        "id": "jNNrEnw3C0Ka"
      },
      "execution_count": null,
      "outputs": []
    },
    {
      "cell_type": "code",
      "source": [
        "main_code = \"\"\"\n",
        "mod euler;\n",
        "use plotters::prelude::*;\n",
        "use std::fs::File;\n",
        "use std::io::{BufWriter, Write};\n",
        "\n",
        "// ODE: dy/dt = cos(t) - y\n",
        "fn ode(t: f64, y: f64) -> f64 {\n",
        "    t.cos() - y\n",
        "}\n",
        "\n",
        "// Exact analytical solution\n",
        "fn y_exact(t: f64) -> f64 {\n",
        "    0.5 * (t.cos() + t.sin()) + 0.5 * (-t).exp()\n",
        "}\n",
        "\n",
        "fn main() -> Result<(), Box<dyn std::error::Error>> {\n",
        "    let t_start = 0.0;\n",
        "    let t_end = 5.0;\n",
        "    let y0 = 1.0;\n",
        "    let step_sizes = [20, 100, 1000];\n",
        "    let colors = [&RED, &BLUE, &GREEN];\n",
        "\n",
        "    // CSV file to store values\n",
        "    let file = File::create(\"euler_solutions.csv\")?;\n",
        "    let mut writer = BufWriter::new(file);\n",
        "    writeln!(writer, \"n,t,y\")?;\n",
        "\n",
        "    // Plot image setup\n",
        "    let root = BitMapBackend::new(\"euler_vs_analytical.png\", (900, 600)).into_drawing_area();\n",
        "    root.fill(&WHITE)?;\n",
        "    let mut chart = ChartBuilder::on(&root)\n",
        "        .caption(\"Euler vs Analytical Solution\", (\"sans-serif\", 30))\n",
        "        .margin(20)\n",
        "        .x_label_area_size(40)\n",
        "        .y_label_area_size(50)\n",
        "        .build_cartesian_2d(t_start..t_end, -1.5..1.5)?;\n",
        "\n",
        "    chart.configure_mesh().draw()?;\n",
        "\n",
        "    // Plot Euler results for each n\n",
        "    for (i, &n) in step_sizes.iter().enumerate() {\n",
        "        let points = euler::euler_method(ode, y0, t_start, t_end, n);\n",
        "        for &(t, y) in &points {\n",
        "            writeln!(writer, \"{},{:.4},{:.6}\", n, t, y)?;\n",
        "        }\n",
        "        chart.draw_series(LineSeries::new(points.clone(), colors[i]))?\n",
        "            .label(format!(\"Euler n={}\", n))\n",
        "            .legend(move |(x, y)| PathElement::new([(x, y), (x + 20, y)], colors[i]));\n",
        "    }\n",
        "\n",
        "    // Plot analytical/exact solution\n",
        "    let exact: Vec<(f64, f64)> = (0..=1000)\n",
        "        .map(|i| {\n",
        "            let t = t_start + i as f64 * (t_end - t_start) / 1000.0;\n",
        "            (t, y_exact(t))\n",
        "        })\n",
        "        .collect();\n",
        "         chart.draw_series(LineSeries::new(exact, &BLACK))?\n",
        "        .label(\"Analytical Solution\")\n",
        "        .legend(|(x, y)| PathElement::new([(x, y), (x + 20, y)], &BLACK));\n",
        "\n",
        "    chart.configure_series_labels()\n",
        "        .background_style(&WHITE.mix(0.8))\n",
        "        .border_style(&BLACK)\n",
        "        .draw()?;\n",
        "\n",
        "    println!(\"✅ Done! CSV + Plot generated.\");\n",
        "    Ok(())\n",
        "}\n",
        "\"\"\"\n",
        "\n",
        "with open(\"euler_project/src/main.rs\", \"w\") as f:\n",
        "    f.write(main_code)\n"
      ],
      "metadata": {
        "id": "ZNERqlWoCZ42"
      },
      "execution_count": null,
      "outputs": []
    },
    {
      "cell_type": "code",
      "source": [
        "%%bash\n",
        "cd euler_project\n",
        "source $HOME/.cargo/env\n",
        "cargo run --release\n"
      ],
      "metadata": {
        "id": "nI0401lRDWOv",
        "outputId": "069048df-5cf9-4b07-ee5b-5121a3bb92b3",
        "colab": {
          "base_uri": "https://localhost:8080/"
        }
      },
      "execution_count": null,
      "outputs": [
        {
          "output_type": "stream",
          "name": "stdout",
          "text": [
            "✅ Done! CSV + Plot generated.\n"
          ]
        },
        {
          "output_type": "stream",
          "name": "stderr",
          "text": [
            "    Updating crates.io index\n",
            "     Locking 110 packages to latest Rust 1.88.0 compatible versions\n",
            "      Adding adler2 v2.0.1\n",
            "      Adding android-tzdata v0.1.1\n",
            "      Adding android_system_properties v0.1.5\n",
            "      Adding autocfg v1.5.0\n",
            "      Adding bitflags v1.3.2\n",
            "      Adding bitflags v2.9.1\n",
            "      Adding bumpalo v3.19.0\n",
            "      Adding bytemuck v1.23.1\n",
            "      Adding byteorder v1.5.0\n",
            "      Adding cc v1.2.28\n",
            "      Adding cfg-if v1.0.1\n",
            "      Adding chrono v0.4.41\n",
            "      Adding color_quant v1.1.0\n",
            "      Adding core-foundation v0.9.4\n",
            "      Adding core-foundation-sys v0.8.7\n",
            "      Adding core-graphics v0.23.2\n",
            "      Adding core-graphics-types v0.1.3\n",
            "      Adding core-text v20.1.0\n",
            "      Adding crc32fast v1.4.2\n",
            "      Adding dirs v6.0.0\n",
            "      Adding dirs-sys v0.5.0\n",
            "      Adding dlib v0.5.2\n",
            "      Adding dwrote v0.11.3\n",
            "      Adding fdeflate v0.3.7\n",
            "      Adding flate2 v1.1.2\n",
            "      Adding float-ord v0.3.2\n",
            "      Adding font-kit v0.14.3\n",
            "      Adding foreign-types v0.5.0\n",
            "      Adding foreign-types-macros v0.2.3\n",
            "      Adding foreign-types-shared v0.3.1\n",
            "      Adding freetype-sys v0.20.1\n",
            "      Adding getrandom v0.2.16\n",
            "      Adding gif v0.12.0\n",
            "      Adding iana-time-zone v0.1.63\n",
            "      Adding iana-time-zone-haiku v0.1.2\n",
            "      Adding image v0.24.9\n",
            "      Adding jpeg-decoder v0.3.2\n",
            "      Adding js-sys v0.3.77\n",
            "      Adding lazy_static v1.5.0\n",
            "      Adding libc v0.2.174\n",
            "      Adding libloading v0.8.8\n",
            "      Adding libredox v0.1.4\n",
            "      Adding log v0.4.27\n",
            "      Adding miniz_oxide v0.8.9\n",
            "      Adding num-traits v0.2.19\n",
            "      Adding once_cell v1.21.3\n",
            "      Adding option-ext v0.2.0\n",
            "      Adding pathfinder_geometry v0.5.1\n",
            "      Adding pathfinder_simd v0.5.5\n",
            "      Adding pkg-config v0.3.32\n",
            "      Adding plotters v0.3.7\n",
            "      Adding plotters-backend v0.3.7\n",
            "      Adding plotters-bitmap v0.3.7\n",
            "      Adding plotters-svg v0.3.7\n",
            "      Adding png v0.17.16\n",
            "      Adding proc-macro2 v1.0.95\n",
            "      Adding quote v1.0.40\n",
            "      Adding redox_users v0.5.0\n",
            "      Adding rustc_version v0.4.1\n",
            "      Adding rustversion v1.0.21\n",
            "      Adding same-file v1.0.6\n",
            "      Adding semver v1.0.26\n",
            "      Adding shlex v1.3.0\n",
            "      Adding simd-adler32 v0.3.7\n",
            "      Adding syn v2.0.104\n",
            "      Adding thiserror v2.0.12\n",
            "      Adding thiserror-impl v2.0.12\n",
            "      Adding ttf-parser v0.20.0\n",
            "      Adding unicode-ident v1.0.18\n",
            "      Adding walkdir v2.5.0\n",
            "      Adding wasi v0.11.1+wasi-snapshot-preview1\n",
            "      Adding wasm-bindgen v0.2.100\n",
            "      Adding wasm-bindgen-backend v0.2.100\n",
            "      Adding wasm-bindgen-macro v0.2.100\n",
            "      Adding wasm-bindgen-macro-support v0.2.100\n",
            "      Adding wasm-bindgen-shared v0.2.100\n",
            "      Adding web-sys v0.3.77\n",
            "      Adding weezl v0.1.10\n",
            "      Adding winapi v0.3.9\n",
            "      Adding winapi-i686-pc-windows-gnu v0.4.0\n",
            "      Adding winapi-util v0.1.9\n",
            "      Adding winapi-x86_64-pc-windows-gnu v0.4.0\n",
            "      Adding windows-core v0.61.2\n",
            "      Adding windows-implement v0.60.0\n",
            "      Adding windows-interface v0.59.1\n",
            "      Adding windows-link v0.1.3\n",
            "      Adding windows-result v0.3.4\n",
            "      Adding windows-strings v0.4.2\n",
            "      Adding windows-sys v0.59.0\n",
            "      Adding windows-sys v0.60.2\n",
            "      Adding windows-targets v0.52.6\n",
            "      Adding windows-targets v0.53.2\n",
            "      Adding windows_aarch64_gnullvm v0.52.6\n",
            "      Adding windows_aarch64_gnullvm v0.53.0\n",
            "      Adding windows_aarch64_msvc v0.52.6\n",
            "      Adding windows_aarch64_msvc v0.53.0\n",
            "      Adding windows_i686_gnu v0.52.6\n",
            "      Adding windows_i686_gnu v0.53.0\n",
            "      Adding windows_i686_gnullvm v0.52.6\n",
            "      Adding windows_i686_gnullvm v0.53.0\n",
            "      Adding windows_i686_msvc v0.52.6\n",
            "      Adding windows_i686_msvc v0.53.0\n",
            "      Adding windows_x86_64_gnu v0.52.6\n",
            "      Adding windows_x86_64_gnu v0.53.0\n",
            "      Adding windows_x86_64_gnullvm v0.52.6\n",
            "      Adding windows_x86_64_gnullvm v0.53.0\n",
            "      Adding windows_x86_64_msvc v0.52.6\n",
            "      Adding windows_x86_64_msvc v0.53.0\n",
            "      Adding wio v0.2.2\n",
            "      Adding yeslogic-fontconfig-sys v6.0.0\n",
            " Downloading crates ...\n",
            "  Downloaded adler2 v2.0.1\n",
            "  Downloaded autocfg v1.5.0\n",
            "  Downloaded option-ext v0.2.0\n",
            "  Downloaded cfg-if v1.0.1\n",
            "  Downloaded byteorder v1.5.0\n",
            "  Downloaded plotters-svg v0.3.7\n",
            "  Downloaded yeslogic-fontconfig-sys v6.0.0\n",
            "  Downloaded shlex v1.3.0\n",
            "  Downloaded bitflags v1.3.2\n",
            "  Downloaded simd-adler32 v0.3.7\n",
            "  Downloaded walkdir v2.5.0\n",
            "  Downloaded log v0.4.27\n",
            "  Downloaded weezl v0.1.10\n",
            "  Downloaded miniz_oxide v0.8.9\n",
            "  Downloaded flate2 v1.1.2\n",
            "  Downloaded font-kit v0.14.3\n",
            "  Downloaded png v0.17.16\n",
            "  Downloaded num-traits v0.2.19\n",
            "  Downloaded ttf-parser v0.20.0\n",
            "  Downloaded plotters v0.3.7\n",
            "  Downloaded libloading v0.8.8\n",
            "  Downloaded chrono v0.4.41\n",
            "  Downloaded iana-time-zone v0.1.63\n",
            "  Downloaded crc32fast v1.4.2\n",
            "  Downloaded cc v1.2.28\n",
            "  Downloaded pathfinder_simd v0.5.5\n",
            "  Downloaded once_cell v1.21.3\n",
            "  Downloaded fdeflate v0.3.7\n",
            "  Downloaded dirs-sys v0.5.0\n",
            "  Downloaded bytemuck v1.23.1\n",
            "  Downloaded bitflags v2.9.1\n",
            "  Downloaded semver v1.0.26\n",
            "  Downloaded same-file v1.0.6\n",
            "  Downloaded rustc_version v0.4.1\n",
            "  Downloaded plotters-bitmap v0.3.7\n",
            "  Downloaded pkg-config v0.3.32\n",
            "  Downloaded pathfinder_geometry v0.5.1\n",
            "  Downloaded lazy_static v1.5.0\n",
            "  Downloaded float-ord v0.3.2\n",
            "  Downloaded dlib v0.5.2\n",
            "  Downloaded dirs v6.0.0\n",
            "  Downloaded plotters-backend v0.3.7\n",
            "  Downloaded color_quant v1.1.0\n",
            "  Downloaded gif v0.12.0\n",
            "  Downloaded jpeg-decoder v0.3.2\n",
            "  Downloaded libc v0.2.174\n",
            "  Downloaded freetype-sys v0.20.1\n",
            "  Downloaded image v0.24.9\n",
            "   Compiling cfg-if v1.0.1\n",
            "   Compiling pkg-config v0.3.32\n",
            "   Compiling semver v1.0.26\n",
            "   Compiling autocfg v1.5.0\n",
            "   Compiling libc v0.2.174\n",
            "   Compiling simd-adler32 v0.3.7\n",
            "   Compiling shlex v1.3.0\n",
            "   Compiling cc v1.2.28\n",
            "   Compiling num-traits v0.2.19\n",
            "   Compiling rustc_version v0.4.1\n",
            "   Compiling adler2 v2.0.1\n",
            "   Compiling miniz_oxide v0.8.9\n",
            "   Compiling freetype-sys v0.20.1\n",
            "   Compiling pathfinder_simd v0.5.5\n",
            "   Compiling yeslogic-fontconfig-sys v6.0.0\n",
            "   Compiling crc32fast v1.4.2\n",
            "   Compiling flate2 v1.1.2\n",
            "   Compiling fdeflate v0.3.7\n",
            "   Compiling libloading v0.8.8\n",
            "   Compiling option-ext v0.2.0\n",
            "   Compiling bitflags v1.3.2\n",
            "   Compiling color_quant v1.1.0\n",
            "   Compiling byteorder v1.5.0\n",
            "   Compiling png v0.17.16\n",
            "   Compiling dirs-sys v0.5.0\n",
            "   Compiling dlib v0.5.2\n",
            "   Compiling bytemuck v1.23.1\n",
            "   Compiling jpeg-decoder v0.3.2\n",
            "   Compiling plotters-backend v0.3.7\n",
            "   Compiling weezl v0.1.10\n",
            "   Compiling log v0.4.27\n",
            "   Compiling font-kit v0.14.3\n",
            "   Compiling same-file v1.0.6\n",
            "   Compiling once_cell v1.21.3\n",
            "   Compiling walkdir v2.5.0\n",
            "   Compiling pathfinder_geometry v0.5.1\n",
            "   Compiling gif v0.12.0\n",
            "   Compiling image v0.24.9\n",
            "   Compiling dirs v6.0.0\n",
            "   Compiling lazy_static v1.5.0\n",
            "   Compiling iana-time-zone v0.1.63\n",
            "   Compiling bitflags v2.9.1\n",
            "   Compiling float-ord v0.3.2\n",
            "   Compiling chrono v0.4.41\n",
            "   Compiling plotters-bitmap v0.3.7\n",
            "   Compiling plotters-svg v0.3.7\n",
            "   Compiling ttf-parser v0.20.0\n",
            "   Compiling plotters v0.3.7\n",
            "   Compiling euler_project v0.1.0 (/content/euler_project)\n",
            "    Finished `release` profile [optimized] target(s) in 1m 28s\n",
            "     Running `target/release/euler_project`\n"
          ]
        }
      ]
    },
    {
      "cell_type": "code",
      "source": [
        "from google.colab import files\n",
        "\n",
        "files.download(\"euler_project/euler_vs_analytical.png\")\n"
      ],
      "metadata": {
        "id": "fWB9mFK3Cixo",
        "outputId": "72663c5b-2074-41c6-9244-c4f1504b22ea",
        "colab": {
          "base_uri": "https://localhost:8080/",
          "height": 17
        }
      },
      "execution_count": null,
      "outputs": [
        {
          "output_type": "display_data",
          "data": {
            "text/plain": [
              "<IPython.core.display.Javascript object>"
            ],
            "application/javascript": [
              "\n",
              "    async function download(id, filename, size) {\n",
              "      if (!google.colab.kernel.accessAllowed) {\n",
              "        return;\n",
              "      }\n",
              "      const div = document.createElement('div');\n",
              "      const label = document.createElement('label');\n",
              "      label.textContent = `Downloading \"${filename}\": `;\n",
              "      div.appendChild(label);\n",
              "      const progress = document.createElement('progress');\n",
              "      progress.max = size;\n",
              "      div.appendChild(progress);\n",
              "      document.body.appendChild(div);\n",
              "\n",
              "      const buffers = [];\n",
              "      let downloaded = 0;\n",
              "\n",
              "      const channel = await google.colab.kernel.comms.open(id);\n",
              "      // Send a message to notify the kernel that we're ready.\n",
              "      channel.send({})\n",
              "\n",
              "      for await (const message of channel.messages) {\n",
              "        // Send a message to notify the kernel that we're ready.\n",
              "        channel.send({})\n",
              "        if (message.buffers) {\n",
              "          for (const buffer of message.buffers) {\n",
              "            buffers.push(buffer);\n",
              "            downloaded += buffer.byteLength;\n",
              "            progress.value = downloaded;\n",
              "          }\n",
              "        }\n",
              "      }\n",
              "      const blob = new Blob(buffers, {type: 'application/binary'});\n",
              "      const a = document.createElement('a');\n",
              "      a.href = window.URL.createObjectURL(blob);\n",
              "      a.download = filename;\n",
              "      div.appendChild(a);\n",
              "      a.click();\n",
              "      div.remove();\n",
              "    }\n",
              "  "
            ]
          },
          "metadata": {}
        },
        {
          "output_type": "display_data",
          "data": {
            "text/plain": [
              "<IPython.core.display.Javascript object>"
            ],
            "application/javascript": [
              "download(\"download_e8a097bb-d653-4fb2-b115-34600121ad7e\", \"euler_vs_analytical.png\", 126296)"
            ]
          },
          "metadata": {}
        }
      ]
    }
  ]
}